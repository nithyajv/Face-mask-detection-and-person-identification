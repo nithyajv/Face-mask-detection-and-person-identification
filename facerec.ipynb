{
 "cells": [
  {
   "cell_type": "code",
   "execution_count": 2,
   "metadata": {},
   "outputs": [
    {
     "name": "stdout",
     "output_type": "stream",
     "text": [
      "Requirement already satisfied: face_recognition in ./.local/lib/python3.8/site-packages (1.3.0)\n",
      "Requirement already satisfied: dlib>=19.7 in ./.local/lib/python3.8/site-packages (from face_recognition) (19.24.0)\n",
      "Requirement already satisfied: Pillow in /usr/lib/python3/dist-packages (from face_recognition) (7.0.0)\n",
      "Requirement already satisfied: face-recognition-models>=0.3.0 in ./.local/lib/python3.8/site-packages (from face_recognition) (0.3.0)\n",
      "Requirement already satisfied: Click>=6.0 in /usr/lib/python3/dist-packages (from face_recognition) (7.0)\n",
      "Requirement already satisfied: numpy in ./.local/lib/python3.8/site-packages (from face_recognition) (1.22.4)\n",
      "Note: you may need to restart the kernel to use updated packages.\n"
     ]
    }
   ],
   "source": [
    "pip install face_recognition"
   ]
  },
  {
   "cell_type": "code",
   "execution_count": 1,
   "metadata": {},
   "outputs": [
    {
     "name": "stdout",
     "output_type": "stream",
     "text": [
      "Collecting opencv-contrib-python\n",
      "  Downloading opencv_contrib_python-4.5.5.64-cp36-abi3-manylinux_2_17_x86_64.manylinux2014_x86_64.whl (66.7 MB)\n",
      "\u001b[K     |████████████████████████████████| 66.7 MB 10 kB/s  eta 0:00:012   |█▌                              | 3.1 MB 963 kB/s eta 0:01:07     |██▍                             | 4.9 MB 12.9 MB/s eta 0:00:05     |██████████                      | 20.7 MB 8.0 MB/s eta 0:00:06     |██████████                      | 21.0 MB 8.0 MB/s eta 0:00:06     |██████████▏                     | 21.2 MB 8.0 MB/s eta 0:00:06     |███████████▎                    | 23.4 MB 8.0 MB/s eta 0:00:06     |██████████████▋                 | 30.4 MB 9.7 MB/s eta 0:00:04     |████████████████▏               | 33.8 MB 9.7 MB/s eta 0:00:04     |████████████████▉               | 35.2 MB 9.7 MB/s eta 0:00:04     |█████████████████▌              | 36.5 MB 13.3 MB/s eta 0:00:03     |█████████████████████▏          | 44.2 MB 7.7 MB/s eta 0:00:03     |█████████████████████▉          | 45.6 MB 7.7 MB/s eta 0:00:03     |████████████████████████▎       | 50.7 MB 7.7 MB/s eta 0:00:03     |███████████████████████████     | 56.2 MB 4.7 MB/s eta 0:00:03     |███████████████████████████▍    | 57.2 MB 4.7 MB/s eta 0:00:03     |████████████████████████████▊   | 59.9 MB 4.7 MB/s eta 0:00:02     |██████████████████████████████▏ | 62.8 MB 5.4 MB/s eta 0:00:01\n",
      "\u001b[?25hRequirement already satisfied: numpy>=1.17.3; python_version >= \"3.8\" in /home/nimmy/.local/lib/python3.8/site-packages (from opencv-contrib-python) (1.22.4)\n",
      "Installing collected packages: opencv-contrib-python\n",
      "Successfully installed opencv-contrib-python-4.5.5.64\n",
      "Note: you may need to restart the kernel to use updated packages.\n"
     ]
    }
   ],
   "source": [
    "pip install opencv-contrib-python"
   ]
  },
  {
   "cell_type": "code",
   "execution_count": 1,
   "metadata": {},
   "outputs": [
    {
     "name": "stderr",
     "output_type": "stream",
     "text": [
      "2022-06-05 13:07:47.933703: W tensorflow/stream_executor/platform/default/dso_loader.cc:64] Could not load dynamic library 'libcudart.so.11.0'; dlerror: libcudart.so.11.0: cannot open shared object file: No such file or directory; LD_LIBRARY_PATH: /home/nimmy/.local/lib/python3.8/site-packages/cv2/../../lib64:\n",
      "2022-06-05 13:07:47.933733: I tensorflow/stream_executor/cuda/cudart_stub.cc:29] Ignore above cudart dlerror if you do not have a GPU set up on your machine.\n"
     ]
    },
    {
     "name": "stdout",
     "output_type": "stream",
     "text": [
      "5 encoding images found.\n",
      "Encoding images loaded\n"
     ]
    }
   ],
   "source": [
    "import cv2\n",
    "import tensorflow as tf\n",
    "from keras.models import load_model\n",
    "import os\n",
    "#import smtplib\n",
    "#import ssl\n",
    "import face_recognition\n",
    "from simple_facerec import SimpleFacerec\n",
    "\n",
    "#sender_email='facemaskad01@gmail.com'\n",
    "#password='aDMin@10'\n",
    "\n",
    "# Encode faces from a folder\n",
    "sfr = SimpleFacerec()\n",
    "sfr.load_encoding_images(\"images/\")\n",
    "# Load Camera\n",
    "cap = cv2.VideoCapture(0)\n",
    "while True:\n",
    "    ret, frame = cap.read()\n",
    "     # Detect Faces if mask off\n",
    "    face_locations, face_names = sfr.detect_known_faces(frame)\n",
    "    for face_loc, name in zip(face_locations, face_names):\n",
    "        y1, x2, y2, x1 = face_loc[0], face_loc[1], face_loc[2], face_loc[3]\n",
    "        cv2.putText(frame, name,(x1, y1 - 10), cv2.FONT_HERSHEY_DUPLEX, 1, (0, 0, 200), 2)\n",
    "        cv2.rectangle(frame, (x1, y1), (x2, y2), (0, 0, 200), 4)\n",
    "    cv2.imshow(\"Frame\", frame)\n",
    "    key = cv2.waitKey(1)\n",
    "    if key == 27:\n",
    "        break\n",
    "cap.release()\n",
    "cv2.destroyAllWindows()\n"
   ]
  }
 ],
 "metadata": {
  "interpreter": {
   "hash": "31f2aee4e71d21fbe5cf8b01ff0e069b9275f58929596ceb00d14d90e3e16cd6"
  },
  "kernelspec": {
   "display_name": "Python 3.8.10 64-bit",
   "language": "python",
   "name": "python3"
  },
  "language_info": {
   "codemirror_mode": {
    "name": "ipython",
    "version": 3
   },
   "file_extension": ".py",
   "mimetype": "text/x-python",
   "name": "python",
   "nbconvert_exporter": "python",
   "pygments_lexer": "ipython3",
   "version": "3.8.10"
  },
  "orig_nbformat": 4
 },
 "nbformat": 4,
 "nbformat_minor": 2
}
